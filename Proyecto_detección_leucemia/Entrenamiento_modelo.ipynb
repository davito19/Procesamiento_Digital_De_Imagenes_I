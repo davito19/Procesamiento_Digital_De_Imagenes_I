{
 "cells": [
  {
   "cell_type": "code",
   "execution_count": 38,
   "metadata": {},
   "outputs": [],
   "source": [
    "import sys                  #menejo del sistema\n",
    "import os                   #manejo del sistema operativo\n",
    "import numpy as np          #libreria numerica de python\n",
    "import tensorflow as tf     #libreria para redes profundas\n",
    "from tensorflow.keras.preprocessing.image import ImageDataGenerator\n",
    "from tensorflow.keras.optimizers import RMSprop"
   ]
  },
  {
   "cell_type": "code",
   "execution_count": 32,
   "metadata": {},
   "outputs": [
    {
     "name": "stdout",
     "output_type": "stream",
     "text": [
      "C:\\Users\\omard\\Documents\\Udea\\Semestre_2020_1\\Procesamiento_Digital_De_Imagenes_I\\Proyecto_detección_leucemia\n"
     ]
    }
   ],
   "source": [
    "#ruta de el data set\n",
    "mio=os.getcwd()\n",
    "data_entrenamiento=os.path.join(mio+'/Data/Entrenamiento')\n",
    "data_validacion=mio+'/Data/Validacion'\n",
    "\n",
    "#definimos los parametros\n",
    "epocas=10\n",
    "image_size=(640,480)\n",
    "batch_size=30\n",
    "pasos=1000\n",
    "pasos_validacion=200\n",
    "lr=0.001"
   ]
  },
  {
   "cell_type": "code",
   "execution_count": 43,
   "metadata": {},
   "outputs": [
    {
     "name": "stdout",
     "output_type": "stream",
     "text": [
      "Found 600 images belonging to 2 classes.\n",
      "Found 24 images belonging to 2 classes.\n"
     ]
    }
   ],
   "source": [
    "#Preporcesado del dataset\n",
    "entrenamiento_datagen = ImageDataGenerator(\n",
    "    rescale=1. / 255,\n",
    "    shear_range=0.2,\n",
    "    zoom_range=0.2,\n",
    "    horizontal_flip=True)\n",
    "\n",
    "validacion_datagen=ImageDataGenerator(rescale=1./255)\n",
    "\n",
    "#importamos las imagenes y procesado\n",
    "entrenamiento_generado=entrenamiento_datagen.flow_from_directory(\n",
    "    data_entrenamiento,\n",
    "    target_size=image_size,\n",
    "    batch_size=50,\n",
    "    class_mode='binary')\n",
    "\n",
    "validacion_generador=validacion_datagen.flow_from_directory(\n",
    "    data_validacion,\n",
    "    target_size=image_size,\n",
    "    batch_size=2,\n",
    "    class_mode='binary')"
   ]
  },
  {
   "cell_type": "code",
   "execution_count": 36,
   "metadata": {},
   "outputs": [
    {
     "name": "stdout",
     "output_type": "stream",
     "text": [
      "Model: \"sequential_2\"\n",
      "_________________________________________________________________\n",
      "Layer (type)                 Output Shape              Param #   \n",
      "=================================================================\n",
      "conv2d_10 (Conv2D)           (None, 638, 478, 16)      448       \n",
      "_________________________________________________________________\n",
      "max_pooling2d_10 (MaxPooling (None, 319, 239, 16)      0         \n",
      "_________________________________________________________________\n",
      "conv2d_11 (Conv2D)           (None, 317, 237, 32)      4640      \n",
      "_________________________________________________________________\n",
      "max_pooling2d_11 (MaxPooling (None, 158, 118, 32)      0         \n",
      "_________________________________________________________________\n",
      "conv2d_12 (Conv2D)           (None, 156, 116, 64)      18496     \n",
      "_________________________________________________________________\n",
      "max_pooling2d_12 (MaxPooling (None, 78, 58, 64)        0         \n",
      "_________________________________________________________________\n",
      "conv2d_13 (Conv2D)           (None, 76, 56, 64)        36928     \n",
      "_________________________________________________________________\n",
      "max_pooling2d_13 (MaxPooling (None, 38, 28, 64)        0         \n",
      "_________________________________________________________________\n",
      "conv2d_14 (Conv2D)           (None, 36, 26, 64)        36928     \n",
      "_________________________________________________________________\n",
      "max_pooling2d_14 (MaxPooling (None, 18, 13, 64)        0         \n",
      "_________________________________________________________________\n",
      "flatten_2 (Flatten)          (None, 14976)             0         \n",
      "_________________________________________________________________\n",
      "dense_4 (Dense)              (None, 512)               7668224   \n",
      "_________________________________________________________________\n",
      "dense_5 (Dense)              (None, 1)                 513       \n",
      "=================================================================\n",
      "Total params: 7,766,177\n",
      "Trainable params: 7,766,177\n",
      "Non-trainable params: 0\n",
      "_________________________________________________________________\n"
     ]
    }
   ],
   "source": [
    "model = tf.keras.models.Sequential([\n",
    "    # Note the input shape is the desired size of the image 150x150 with 3 bytes color\n",
    "    # This is the first convolution\n",
    "    tf.keras.layers.Conv2D(16, (3,3), activation='relu', input_shape=(640, 480, 3)),\n",
    "    tf.keras.layers.MaxPooling2D(2, 2),\n",
    "    # The second convolution\n",
    "    tf.keras.layers.Conv2D(32, (3,3), activation='relu'),\n",
    "    tf.keras.layers.MaxPooling2D(2,2),\n",
    "    # The third convolution\n",
    "    tf.keras.layers.Conv2D(64, (3,3), activation='relu'),\n",
    "    tf.keras.layers.MaxPooling2D(2,2),\n",
    "    # The fourth convolution\n",
    "    tf.keras.layers.Conv2D(64, (3,3), activation='relu'),\n",
    "    tf.keras.layers.MaxPooling2D(2,2),\n",
    "    # The fifth convolution\n",
    "    tf.keras.layers.Conv2D(64, (3,3), activation='relu'),\n",
    "    tf.keras.layers.MaxPooling2D(2,2),\n",
    "    # Flatten the results to feed into a DNN\n",
    "    tf.keras.layers.Flatten(),\n",
    "    # 512 neuron hidden layer\n",
    "    tf.keras.layers.Dense(512, activation='relu'),\n",
    "    # Only 1 output neuron. It will contain a value from 0-1 where 0 for 1 class ('horses') and 1 for the other ('humans')\n",
    "    tf.keras.layers.Dense(1, activation='sigmoid')\n",
    "])\n",
    "model.summary()"
   ]
  },
  {
   "cell_type": "code",
   "execution_count": 39,
   "metadata": {},
   "outputs": [],
   "source": [
    "model.compile(loss='binary_crossentropy',\n",
    "              optimizer=RMSprop(lr=lr),\n",
    "              metrics=['accuracy'])"
   ]
  },
  {
   "cell_type": "code",
   "execution_count": 45,
   "metadata": {},
   "outputs": [
    {
     "name": "stdout",
     "output_type": "stream",
     "text": [
      "Epoch 1/10\n",
      "12/12 [==============================] - 165s 14s/step - loss: 0.4813 - accuracy: 0.9433 - val_loss: 0.0125 - val_accuracy: 1.0000\n",
      "Epoch 2/10\n",
      "12/12 [==============================] - 146s 12s/step - loss: 0.1905 - accuracy: 0.9467 - val_loss: 0.0195 - val_accuracy: 1.0000\n",
      "Epoch 3/10\n",
      "12/12 [==============================] - 143s 12s/step - loss: 0.0076 - accuracy: 1.0000 - val_loss: 1.6372e-04 - val_accuracy: 1.0000\n",
      "Epoch 4/10\n",
      "12/12 [==============================] - 192s 16s/step - loss: 9.9355e-05 - accuracy: 1.0000 - val_loss: 2.3642e-05 - val_accuracy: 1.0000\n",
      "Epoch 5/10\n",
      "12/12 [==============================] - 148s 12s/step - loss: 2.5479e-05 - accuracy: 1.0000 - val_loss: 3.8206e-05 - val_accuracy: 1.0000\n",
      "Epoch 6/10\n",
      "12/12 [==============================] - 159s 13s/step - loss: 1.2805e-05 - accuracy: 1.0000 - val_loss: 2.8528e-06 - val_accuracy: 1.0000\n",
      "Epoch 7/10\n",
      "12/12 [==============================] - 281s 23s/step - loss: 5.3540e-06 - accuracy: 1.0000 - val_loss: 1.6006e-06 - val_accuracy: 1.0000\n",
      "Epoch 8/10\n",
      "12/12 [==============================] - 203s 17s/step - loss: 2.1224e-06 - accuracy: 1.0000 - val_loss: 7.5220e-07 - val_accuracy: 1.0000\n",
      "Epoch 9/10\n",
      "12/12 [==============================] - 156s 13s/step - loss: 0.7590 - accuracy: 0.9583 - val_loss: 0.0015 - val_accuracy: 1.0000\n",
      "Epoch 10/10\n",
      "12/12 [==============================] - 189s 16s/step - loss: 0.0016 - accuracy: 1.0000 - val_loss: 9.5902e-04 - val_accuracy: 1.0000\n"
     ]
    },
    {
     "data": {
      "text/plain": [
       "<tensorflow.python.keras.callbacks.History at 0x2b1269a8340>"
      ]
     },
     "execution_count": 45,
     "metadata": {},
     "output_type": "execute_result"
    }
   ],
   "source": [
    "model.fit(entrenamiento_generado,\n",
    "    steps_per_epoch=12,\n",
    "    epochs=10,\n",
    "    validation_data=validacion_generador,\n",
    "    validation_steps=12)"
   ]
  },
  {
   "cell_type": "code",
   "execution_count": null,
   "metadata": {},
   "outputs": [],
   "source": [
    "save_model=mio+'/Modelo'\n",
    "if not os.path.exists(save_model):\n",
    "    os.mkdir(save_model)\n",
    "model.save(save_model+'/leucemiamodel.h5')\n",
    "model.save_weights(save_model+'/leucemiapesos.h5')"
   ]
  }
 ],
 "metadata": {
  "kernelspec": {
   "display_name": "Python 3",
   "language": "python",
   "name": "python3"
  },
  "language_info": {
   "codemirror_mode": {
    "name": "ipython",
    "version": 3
   },
   "file_extension": ".py",
   "mimetype": "text/x-python",
   "name": "python",
   "nbconvert_exporter": "python",
   "pygments_lexer": "ipython3",
   "version": "3.8.3"
  }
 },
 "nbformat": 4,
 "nbformat_minor": 4
}
