{
 "cells": [
  {
   "cell_type": "code",
   "execution_count": 5,
   "metadata": {},
   "outputs": [],
   "source": [
    "import os\n",
    "import numpy as np\n",
    "from keras.preprocessing.image import load_img, img_to_array\n",
    "from keras.models import load_model"
   ]
  },
  {
   "cell_type": "code",
   "execution_count": 10,
   "metadata": {},
   "outputs": [],
   "source": [
    "tamano=(640, 480)\n",
    "modelo=os.getcwd()+'/Modelo/leucemiamodel.h5'\n",
    "pesos=os.getcwd()+'/Modelo/leucemiapesos.h5'\n",
    "cnn=load_model(modelo)\n",
    "cnn.load_weights(pesos)"
   ]
  },
  {
   "cell_type": "code",
   "execution_count": 24,
   "metadata": {},
   "outputs": [
    {
     "name": "stdout",
     "output_type": "stream",
     "text": [
      "[1.]\n",
      "pred: Sanas\n"
     ]
    }
   ],
   "source": [
    "file1=os.getcwd()+'/Data/Validacion/sanas/BloodImage_00340.jpg'\n",
    "file0=os.getcwd()+'/Data/Validacion/leucemia/FB_IMG_1582862764903.jpg'\n",
    "x = load_img(file1, target_size=tamano)\n",
    "x = img_to_array(x)\n",
    "x = np.expand_dims(x, axis=0)\n",
    "array = cnn.predict(x)\n",
    "result = array[0]\n",
    "print(result)\n",
    "if result == 0:\n",
    "    print(\"pred: Leucemia\")\n",
    "else:\n",
    "    print(\"pred: Sanas\")\n"
   ]
  }
 ],
 "metadata": {
  "kernelspec": {
   "display_name": "Python 3",
   "language": "python",
   "name": "python3"
  },
  "language_info": {
   "codemirror_mode": {
    "name": "ipython",
    "version": 3
   },
   "file_extension": ".py",
   "mimetype": "text/x-python",
   "name": "python",
   "nbconvert_exporter": "python",
   "pygments_lexer": "ipython3",
   "version": "3.8.3"
  }
 },
 "nbformat": 4,
 "nbformat_minor": 4
}
