{
 "cells": [
  {
   "cell_type": "code",
   "execution_count": 2,
   "metadata": {},
   "outputs": [],
   "source": [
    "import sys                  #menejo del sistema\n",
    "import os                   #manejo del sistema operativo\n",
    "import numpy as np          #libreria numerica de python\n",
    "import tensorflow as tf     #libreria para redes profundas\n",
    "from tensorflow.keras.preprocessing.image import ImageDataGenerator\n",
    "from tensorflow.keras.optimizers import RMSprop"
   ]
  },
  {
   "cell_type": "code",
   "execution_count": 3,
   "metadata": {},
   "outputs": [],
   "source": [
    "#ruta de el data set\n",
    "mio=os.getcwd()\n",
    "data_entrenamiento=os.path.join(mio+'/Data/Entrenamiento')\n",
    "data_validacion=mio+'/Data/Validacion'\n",
    "\n",
    "#definimos los parametros\n",
    "epocas=10\n",
    "image_size=(640,480)\n",
    "batch_size=30\n",
    "pasos=1000\n",
    "pasos_validacion=200\n",
    "lr=0.001"
   ]
  },
  {
   "cell_type": "code",
   "execution_count": 4,
   "metadata": {},
   "outputs": [
    {
     "name": "stdout",
     "output_type": "stream",
     "text": [
      "Found 600 images belonging to 2 classes.\n",
      "Found 24 images belonging to 2 classes.\n"
     ]
    }
   ],
   "source": [
    "#Preporcesado del dataset\n",
    "entrenamiento_datagen = ImageDataGenerator(\n",
    "    rescale=1. / 255,\n",
    "    shear_range=0.2,\n",
    "    zoom_range=0.2,\n",
    "    horizontal_flip=True)\n",
    "\n",
    "validacion_datagen=ImageDataGenerator(rescale=1./255)\n",
    "\n",
    "#importamos las imagenes y procesado\n",
    "entrenamiento_generado=entrenamiento_datagen.flow_from_directory(\n",
    "    data_entrenamiento,\n",
    "    target_size=image_size,\n",
    "    batch_size=50,\n",
    "    class_mode='binary')\n",
    "\n",
    "validacion_generador=validacion_datagen.flow_from_directory(\n",
    "    data_validacion,\n",
    "    target_size=image_size,\n",
    "    batch_size=2,\n",
    "    class_mode='binary')"
   ]
  },
  {
   "cell_type": "code",
   "execution_count": 5,
   "metadata": {},
   "outputs": [
    {
     "name": "stdout",
     "output_type": "stream",
     "text": [
      "Model: \"sequential\"\n",
      "_________________________________________________________________\n",
      "Layer (type)                 Output Shape              Param #   \n",
      "=================================================================\n",
      "conv2d (Conv2D)              (None, 638, 478, 16)      448       \n",
      "_________________________________________________________________\n",
      "max_pooling2d (MaxPooling2D) (None, 319, 239, 16)      0         \n",
      "_________________________________________________________________\n",
      "conv2d_1 (Conv2D)            (None, 317, 237, 32)      4640      \n",
      "_________________________________________________________________\n",
      "max_pooling2d_1 (MaxPooling2 (None, 158, 118, 32)      0         \n",
      "_________________________________________________________________\n",
      "conv2d_2 (Conv2D)            (None, 156, 116, 64)      18496     \n",
      "_________________________________________________________________\n",
      "max_pooling2d_2 (MaxPooling2 (None, 78, 58, 64)        0         \n",
      "_________________________________________________________________\n",
      "conv2d_3 (Conv2D)            (None, 76, 56, 64)        36928     \n",
      "_________________________________________________________________\n",
      "max_pooling2d_3 (MaxPooling2 (None, 38, 28, 64)        0         \n",
      "_________________________________________________________________\n",
      "conv2d_4 (Conv2D)            (None, 36, 26, 64)        36928     \n",
      "_________________________________________________________________\n",
      "max_pooling2d_4 (MaxPooling2 (None, 18, 13, 64)        0         \n",
      "_________________________________________________________________\n",
      "flatten (Flatten)            (None, 14976)             0         \n",
      "_________________________________________________________________\n",
      "dense (Dense)                (None, 512)               7668224   \n",
      "_________________________________________________________________\n",
      "dense_1 (Dense)              (None, 1)                 513       \n",
      "=================================================================\n",
      "Total params: 7,766,177\n",
      "Trainable params: 7,766,177\n",
      "Non-trainable params: 0\n",
      "_________________________________________________________________\n"
     ]
    }
   ],
   "source": [
    "model = tf.keras.models.Sequential([\n",
    "    # Note the input shape is the desired size of the image 640x480 with 3 bytes color\n",
    "    # This is the first convolution\n",
    "    tf.keras.layers.Conv2D(16, (3,3), activation='relu', input_shape=(640, 480, 3)),\n",
    "    tf.keras.layers.MaxPooling2D(2, 2),\n",
    "    # The second convolution\n",
    "    tf.keras.layers.Conv2D(32, (3,3), activation='relu'),\n",
    "    tf.keras.layers.MaxPooling2D(2,2),\n",
    "    # The third convolution\n",
    "    tf.keras.layers.Conv2D(64, (3,3), activation='relu'),\n",
    "    tf.keras.layers.MaxPooling2D(2,2),\n",
    "    # The fourth convolution\n",
    "    tf.keras.layers.Conv2D(64, (3,3), activation='relu'),\n",
    "    tf.keras.layers.MaxPooling2D(2,2),\n",
    "    # The fifth convolution\n",
    "    tf.keras.layers.Conv2D(64, (3,3), activation='relu'),\n",
    "    tf.keras.layers.MaxPooling2D(2,2),\n",
    "    # Flatten the results to feed into a DNN\n",
    "    tf.keras.layers.Flatten(),\n",
    "    # 512 neuron hidden layer\n",
    "    tf.keras.layers.Dense(512, activation='relu'),\n",
    "    # Only 1 output neuron. It will contain a value from 0-1 where 0 for 1 class ('leucemia') and 1 for the other ('healt')\n",
    "    tf.keras.layers.Dense(1, activation='sigmoid')\n",
    "])\n",
    "model.summary()"
   ]
  },
  {
   "cell_type": "code",
   "execution_count": 9,
   "metadata": {},
   "outputs": [],
   "source": [
    "model.compile(loss='binary_crossentropy',\n",
    "              optimizer=RMSprop(lr=lr),\n",
    "              metrics=['accuracy'])"
   ]
  },
  {
   "cell_type": "code",
   "execution_count": 10,
   "metadata": {
    "scrolled": false
   },
   "outputs": [
    {
     "name": "stdout",
     "output_type": "stream",
     "text": [
      "Epoch 1/10\n",
      "12/12 [==============================] - 188s 14s/step - loss: 1.0004 - accuracy: 0.7715 - val_loss: 0.0457 - val_accuracy: 0.9583\n",
      "Epoch 2/10\n",
      "12/12 [==============================] - 196s 16s/step - loss: 0.0258 - accuracy: 0.9927 - val_loss: 3.3494 - val_accuracy: 0.5417\n",
      "Epoch 3/10\n",
      "12/12 [==============================] - 200s 16s/step - loss: 0.3385 - accuracy: 0.9353 - val_loss: 8.8060e-04 - val_accuracy: 1.0000\n",
      "Epoch 4/10\n",
      "12/12 [==============================] - 180s 15s/step - loss: 9.8640e-04 - accuracy: 1.0000 - val_loss: 1.8220e-04 - val_accuracy: 1.0000\n",
      "Epoch 5/10\n",
      "12/12 [==============================] - 179s 15s/step - loss: 1.9148e-04 - accuracy: 1.0000 - val_loss: 4.9769e-05 - val_accuracy: 1.0000\n",
      "Epoch 6/10\n",
      "12/12 [==============================] - 172s 14s/step - loss: 8.5670e-05 - accuracy: 1.0000 - val_loss: 1.4588e-05 - val_accuracy: 1.0000\n",
      "Epoch 7/10\n",
      "12/12 [==============================] - 167s 14s/step - loss: 8.6239e-05 - accuracy: 1.0000 - val_loss: 7.5836e-06 - val_accuracy: 1.0000\n",
      "Epoch 8/10\n",
      "12/12 [==============================] - 176s 14s/step - loss: 7.3600e-06 - accuracy: 1.0000 - val_loss: 3.0577e-06 - val_accuracy: 1.0000\n",
      "Epoch 9/10\n",
      "12/12 [==============================] - 135s 11s/step - loss: 9.1398e-06 - accuracy: 1.0000 - val_loss: 1.4364e-06 - val_accuracy: 1.0000\n",
      "Epoch 10/10\n",
      "12/12 [==============================] - 132s 11s/step - loss: 3.0036e-06 - accuracy: 1.0000 - val_loss: 8.1097e-07 - val_accuracy: 1.0000\n"
     ]
    }
   ],
   "source": [
    "historia=model.fit(entrenamiento_generado,\n",
    "    steps_per_epoch=12,\n",
    "    epochs=10,\n",
    "    validation_data=validacion_generador,\n",
    "    validation_steps=12)"
   ]
  },
  {
   "cell_type": "code",
   "execution_count": 8,
   "metadata": {},
   "outputs": [],
   "source": [
    "save_model=mio+'/Modelo'\n",
    "if not os.path.exists(save_model):\n",
    "    os.mkdir(save_model)\n",
    "model.save(save_model+'/leucemiamodel.h5')\n",
    "model.save_weights(save_model+'/leucemiapesos.h5')"
   ]
  }
 ],
 "metadata": {
  "kernelspec": {
   "display_name": "Python 3",
   "language": "python",
   "name": "python3"
  },
  "language_info": {
   "codemirror_mode": {
    "name": "ipython",
    "version": 3
   },
   "file_extension": ".py",
   "mimetype": "text/x-python",
   "name": "python",
   "nbconvert_exporter": "python",
   "pygments_lexer": "ipython3",
   "version": "3.8.3"
  }
 },
 "nbformat": 4,
 "nbformat_minor": 4
}
